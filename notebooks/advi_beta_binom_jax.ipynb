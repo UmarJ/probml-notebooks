{
  "cells": [
    {
      "cell_type": "markdown",
      "metadata": {
        "id": "view-in-github",
        "colab_type": "text"
      },
      "source": [
        "<a href=\"https://colab.research.google.com/github/probml/probml-notebooks/blob/main/notebooks/advi_beta_binom_jax.ipynb\" target=\"_parent\"><img src=\"https://colab.research.google.com/assets/colab-badge.svg\" alt=\"Open In Colab\"/></a>"
      ]
    },
    {
      "cell_type": "markdown",
      "metadata": {
        "id": "4f2b96bf"
      },
      "source": [
        "# ADVI from scratch in JAX \n",
        "\n",
        "Authors: karm-patel@, murphyk@\n",
        "\n",
        "In this notebook we apply ADVI (automatic differentiation variational inference) to the beta-binomial model, using a Normal Distribution as Variational Posterior. This involves a change of variable from the unconstrained z in R space to the constrained theta in [0,1] space."
      ],
      "id": "4f2b96bf"
    },
    {
      "cell_type": "code",
      "execution_count": 1,
      "metadata": {
        "id": "05bdb330",
        "colab": {
          "base_uri": "https://localhost:8080/"
        },
        "outputId": "a5ee2f3a-3334-4378-9800-94312d169a08"
      },
      "outputs": [
        {
          "output_type": "stream",
          "name": "stdout",
          "text": [
            "\u001b[K     |████████████████████████████████| 140 kB 11.5 MB/s \n",
            "\u001b[K     |████████████████████████████████| 72 kB 450 kB/s \n",
            "\u001b[K     |████████████████████████████████| 229 kB 9.8 MB/s \n",
            "\u001b[K     |████████████████████████████████| 51 kB 5.9 MB/s \n",
            "\u001b[?25h"
          ]
        }
      ],
      "source": [
        "try:\n",
        "    import jax\n",
        "except ModuleNotFoundError:\n",
        "    %pip install -qqq jax jaxlib\n",
        "    import jax\n",
        "\n",
        "import jax.numpy as jnp\n",
        "from jax import lax\n",
        "\n",
        "try:\n",
        "    from tensorflow_probability.substrates import jax as tfp\n",
        "except ModuleNotFoundError:\n",
        "    %pip install -qqq tensorflow_probability\n",
        "    from tensorflow_probability.substrates import jax as tfp\n",
        "\n",
        "try:\n",
        "    import optax\n",
        "except ModuleNotFoundError:\n",
        "    %pip install -qqq optax\n",
        "    import optax\n",
        "\n",
        "try:\n",
        "    from rich import print\n",
        "except ModuleNotFoundError:\n",
        "    %pip install -qqq rich\n",
        "    from rich import print\n",
        "\n",
        "try:\n",
        "    from tqdm import trange\n",
        "except:\n",
        "    %pip install -qqq tqdm\n",
        "    from tqdm import trange\n",
        "\n",
        "\n",
        "import seaborn as sns\n",
        "import numpy as np   \n",
        "import matplotlib.pyplot as plt\n",
        "import warnings\n",
        "\n",
        "warnings.filterwarnings(\"ignore\")\n",
        "dist = tfp.distributions\n",
        "\n",
        "plt.rc(\"font\", size=10)  # controls default text sizes\n",
        "plt.rc(\"axes\", labelsize=12)  # fontsize of the x and y labels\n",
        "plt.rc(\"legend\", fontsize=12)  # legend fontsize\n",
        "plt.rc(\"figure\", titlesize=15)  # fontsize of the figure title"
      ],
      "id": "05bdb330"
    },
    {
      "cell_type": "markdown",
      "metadata": {
        "id": "Q9Q22U_p1fgN"
      },
      "source": [
        "## Functions \n",
        "Helper functions which will be used later"
      ],
      "id": "Q9Q22U_p1fgN"
    },
    {
      "cell_type": "code",
      "execution_count": 6,
      "metadata": {
        "id": "TBUwCk3r1oEw"
      },
      "outputs": [],
      "source": [
        "#def prior_dist():\n",
        "#    return dist.Beta(concentration1 = 3.0, concentration0 = 3.0)\n",
        "\n",
        "def prior_dist():\n",
        "    return dist.Beta(concentration1 = 1.0, concentration0 = 1.0)\n",
        "\n",
        "def likelihood_dist(theta):\n",
        "    return dist.Bernoulli(probs=theta)\n",
        "\n",
        "def transform_fn(x):\n",
        "    return 1 / (1 + jnp.exp(-x))  # sigmoid\n",
        "\n",
        "def positivity_fn(x):\n",
        "    return jnp.log(1 + jnp.exp(x))  # softplus \n",
        "\n",
        "def variational_distribution_q(params):\n",
        "    loc = params[\"loc\"]\n",
        "    scale = positivity_fn(params[\"scale\"]) # apply softplus\n",
        "    return dist.Normal(loc, scale)\n",
        "\n",
        "jacobian_fn = jax.jacfwd(transform_fn) # define function to find jacobian for tranform_fun"
      ],
      "id": "TBUwCk3r1oEw"
    },
    {
      "cell_type": "markdown",
      "metadata": {
        "id": "FZEmTzoHfbg9"
      },
      "source": [
        "## Dataset\n",
        "Now, we will create the dataset. we sample `theta_true` (probability of occurring head) random variable from the prior distribution which is Beta in this case. Then we sample `n_samples` coin tosses from likelihood distribution which is Bernouli in this case. "
      ],
      "id": "FZEmTzoHfbg9"
    },
    {
      "cell_type": "code",
      "execution_count": 3,
      "metadata": {
        "id": "1e88faaa",
        "colab": {
          "base_uri": "https://localhost:8080/",
          "height": 68
        },
        "outputId": "a9196127-9239-49bd-a3e4-dab9b394fb84"
      },
      "outputs": [
        {
          "output_type": "stream",
          "name": "stderr",
          "text": [
            "WARNING:root:The use of `check_types` is deprecated and does not have any effect.\n",
            "WARNING:root:The use of `check_types` is deprecated and does not have any effect.\n"
          ]
        },
        {
          "output_type": "display_data",
          "data": {
            "text/plain": [
              "Dataset: \u001b[1m[\u001b[0m\u001b[1;36m1\u001b[0m \u001b[1;36m1\u001b[0m \u001b[1;36m1\u001b[0m \u001b[1;36m0\u001b[0m \u001b[1;36m0\u001b[0m \u001b[1;36m0\u001b[0m \u001b[1;36m0\u001b[0m \u001b[1;36m0\u001b[0m \u001b[1;36m0\u001b[0m \u001b[1;36m1\u001b[0m \u001b[1;36m0\u001b[0m \u001b[1;36m1\u001b[0m\u001b[1m]\u001b[0m\n"
            ],
            "text/html": [
              "<pre style=\"white-space:pre;overflow-x:auto;line-height:normal;font-family:Menlo,'DejaVu Sans Mono',consolas,'Courier New',monospace\">Dataset: <span style=\"font-weight: bold\">[</span><span style=\"color: #008080; text-decoration-color: #008080; font-weight: bold\">1</span> <span style=\"color: #008080; text-decoration-color: #008080; font-weight: bold\">1</span> <span style=\"color: #008080; text-decoration-color: #008080; font-weight: bold\">1</span> <span style=\"color: #008080; text-decoration-color: #008080; font-weight: bold\">0</span> <span style=\"color: #008080; text-decoration-color: #008080; font-weight: bold\">0</span> <span style=\"color: #008080; text-decoration-color: #008080; font-weight: bold\">0</span> <span style=\"color: #008080; text-decoration-color: #008080; font-weight: bold\">0</span> <span style=\"color: #008080; text-decoration-color: #008080; font-weight: bold\">0</span> <span style=\"color: #008080; text-decoration-color: #008080; font-weight: bold\">0</span> <span style=\"color: #008080; text-decoration-color: #008080; font-weight: bold\">1</span> <span style=\"color: #008080; text-decoration-color: #008080; font-weight: bold\">0</span> <span style=\"color: #008080; text-decoration-color: #008080; font-weight: bold\">1</span><span style=\"font-weight: bold\">]</span>\n",
              "</pre>\n"
            ]
          },
          "metadata": {}
        }
      ],
      "source": [
        "# preparing dataset\n",
        "key = jax.random.PRNGKey(128)\n",
        "n_samples = 12\n",
        "theta_true =  prior_dist().sample((5,),key)[0]\n",
        "\n",
        "dataset = likelihood_dist(theta_true).sample(n_samples,key)\n",
        "\n",
        "print(f\"Dataset: {dataset}\")\n",
        "n_heads = dataset.sum()\n",
        "n_tails = n_samples - n_heads"
      ],
      "id": "1e88faaa"
    },
    {
      "cell_type": "code",
      "source": [
        "# Use same data as https://github.com/probml/probml-notebooks/blob/main/notebooks/beta_binom_approx_post_pymc.ipynb\n",
        "dataset = np.repeat([0, 1], (10, 1))\n",
        "print(f\"Dataset: {dataset}\")\n",
        "n_heads = dataset.sum()\n",
        "n_tails = n_samples - n_heads"
      ],
      "metadata": {
        "colab": {
          "base_uri": "https://localhost:8080/",
          "height": 33
        },
        "id": "YajB06WPxMNJ",
        "outputId": "6b780e95-f6d2-411c-b5ff-f64bd85f518c"
      },
      "id": "YajB06WPxMNJ",
      "execution_count": 4,
      "outputs": [
        {
          "output_type": "display_data",
          "data": {
            "text/plain": [
              "Dataset: \u001b[1m[\u001b[0m\u001b[1;36m0\u001b[0m \u001b[1;36m0\u001b[0m \u001b[1;36m0\u001b[0m \u001b[1;36m0\u001b[0m \u001b[1;36m0\u001b[0m \u001b[1;36m0\u001b[0m \u001b[1;36m0\u001b[0m \u001b[1;36m0\u001b[0m \u001b[1;36m0\u001b[0m \u001b[1;36m0\u001b[0m \u001b[1;36m1\u001b[0m\u001b[1m]\u001b[0m\n"
            ],
            "text/html": [
              "<pre style=\"white-space:pre;overflow-x:auto;line-height:normal;font-family:Menlo,'DejaVu Sans Mono',consolas,'Courier New',monospace\">Dataset: <span style=\"font-weight: bold\">[</span><span style=\"color: #008080; text-decoration-color: #008080; font-weight: bold\">0</span> <span style=\"color: #008080; text-decoration-color: #008080; font-weight: bold\">0</span> <span style=\"color: #008080; text-decoration-color: #008080; font-weight: bold\">0</span> <span style=\"color: #008080; text-decoration-color: #008080; font-weight: bold\">0</span> <span style=\"color: #008080; text-decoration-color: #008080; font-weight: bold\">0</span> <span style=\"color: #008080; text-decoration-color: #008080; font-weight: bold\">0</span> <span style=\"color: #008080; text-decoration-color: #008080; font-weight: bold\">0</span> <span style=\"color: #008080; text-decoration-color: #008080; font-weight: bold\">0</span> <span style=\"color: #008080; text-decoration-color: #008080; font-weight: bold\">0</span> <span style=\"color: #008080; text-decoration-color: #008080; font-weight: bold\">0</span> <span style=\"color: #008080; text-decoration-color: #008080; font-weight: bold\">1</span><span style=\"font-weight: bold\">]</span>\n",
              "</pre>\n"
            ]
          },
          "metadata": {}
        }
      ]
    },
    {
      "cell_type": "markdown",
      "metadata": {
        "id": "fa96ac0d"
      },
      "source": [
        "## Prior, Likelihood, and True Posterior  \n",
        "For coin toss problem, since we know the closed form solution of posterior, we compare the distributions of Prior, Likelihood, and True Posterior below."
      ],
      "id": "fa96ac0d"
    },
    {
      "cell_type": "code",
      "execution_count": 7,
      "metadata": {
        "id": "bc027abf",
        "colab": {
          "base_uri": "https://localhost:8080/",
          "height": 282
        },
        "outputId": "24cdcf89-13a0-4d98-923b-2675cb17b5e3"
      },
      "outputs": [
        {
          "output_type": "display_data",
          "data": {
            "text/plain": [
              "<Figure size 432x288 with 2 Axes>"
            ],
            "image/png": "[encoded data removed]"
          },
          "metadata": {
            "needs_background": "light"
          }
        }
      ],
      "source": [
        "# closed form of beta posterior\n",
        "a = prior_dist().concentration1\n",
        "b = prior_dist().concentration0\n",
        "\n",
        "exact_posterior = dist.Beta(concentration1 = a + n_heads, concentration0 = b + n_tails)\n",
        "\n",
        "theta_range = jnp.linspace(0.01, 0.99, 100)\n",
        "\n",
        "ax = plt.gca()\n",
        "ax2 = ax.twinx()\n",
        "plt2, = ax2.plot(theta_range, exact_posterior.prob(theta_range), \"g--\", label=\"True Posterior\")\n",
        "plt3, = ax2.plot(theta_range, prior_dist().prob(theta_range), label=\"Prior\")\n",
        "\n",
        "likelihood = jax.vmap(lambda x: jnp.prod(likelihood_dist(x).prob(dataset)))(theta_range)\n",
        "plt1, = ax.plot(theta_range, likelihood, \"r-.\", label=\"Likelihood\")\n",
        "\n",
        "ax.set_xlabel(\"theta\")\n",
        "ax.set_ylabel(\"Likelihood\")\n",
        "ax2.set_ylabel(\"Prior & Posterior\")\n",
        "ax2.legend(handles=[plt1,plt2,plt3],bbox_to_anchor=(1.6,1));"
      ],
      "id": "bc027abf"
    },
    {
      "cell_type": "markdown",
      "metadata": {
        "id": "aMk0AEmnfoLT"
      },
      "source": [
        "## Optimizing the ELBO\n",
        "In order to minimize KL divergence between true posterior and variational distribution, we need to minimize the negative ELBO, as we describe below.\n",
        "\n",
        "We start with the ELBO, which is given by:\n",
        "\\begin{align}\n",
        "ELBO(\\psi) &= E_{z \\sim q(z|\\psi)} \\left[\n",
        "  p(\\mathcal{D}|z) + \\log p(z) - \\log q(z|\\psi) \\right]\n",
        "\\end{align}\n",
        "where \n",
        "$\\psi = (\\mu, \\sigma)$ are the variational parameters,\n",
        "$p(\\mathcal{D}|z) =  p(\\mathcal{D}|\\theta=\\sigma(z))$\n",
        "is the likelihood,\n",
        "and the prior is given by the change of variables formula:\n",
        "\\begin{align}\n",
        "p(z) &= p(\\theta) | \\frac{\\partial \\theta}{\\partial z} |\n",
        " =  p(\\theta) | J | \n",
        "\\end{align}\n",
        "where $J$ is the Jacobian of the $z \\rightarrow \\theta$ mapping.\n",
        "We will use a Monte Carlo approximation of the expectation over $z$.\n",
        "We also apply the reparameterization trick\n",
        "to replace $z \\sim q(z|\\psi)$ with\n",
        "\\begin{align}\n",
        "\\epsilon &\\sim \\mathcal{N}(0,1 ) \\\\\n",
        "z &= \\mu + \\sigma \\epsilon\n",
        "\\end{align}\n",
        "Putting it altogether our estimate for the negative ELBO (for a single sample of $\\epsilon$) is\n",
        "\\begin{align}\n",
        "-L(\\psi; z) &=  -( \\log p(\\mathcal{D}|\\theta ) \n",
        "+\\log p( \\theta)   + \\log|J_\\boldsymbol{\\sigma}(z)|) \n",
        "+ \\log q(z|\\psi)\n",
        "\\end{align}\n",
        "\n",
        "\n",
        "\n"
      ],
      "id": "aMk0AEmnfoLT"
    },
    {
      "cell_type": "code",
      "execution_count": 8,
      "metadata": {
        "id": "fb8f583e"
      },
      "outputs": [],
      "source": [
        "def log_prior_likelihood_jacobian(normal_sample, dataset):\n",
        "    theta = transform_fn(normal_sample)  # transform normal sample to beta sample \n",
        "    likelihood_log_prob = likelihood_dist(theta).log_prob(dataset).sum() # log probability of likelihood\n",
        "    prior_log_prob =  prior_dist().log_prob(theta) # log probability of prior\n",
        "    log_det_jacob = jnp.log(jnp.abs(jnp.linalg.det(jacobian_fn(normal_sample).reshape(1,1)))) # log of determinant of jacobian\n",
        "    return likelihood_log_prob +  prior_log_prob + log_det_jacob "
      ],
      "id": "fb8f583e"
    },
    {
      "cell_type": "code",
      "execution_count": 10,
      "metadata": {
        "id": "9ba6a667"
      },
      "outputs": [],
      "source": [
        "# reference: https://code-first-ml.github.io/book2/notebooks/introduction/variational.html\n",
        "def negative_elbo(params, dataset, n_samples = 10, key=jax.random.PRNGKey(1)):\n",
        "        \n",
        "    q = variational_distribution_q(params) # Normal distribution.\n",
        "    q_loc, q_scale = q.loc, q.scale\n",
        "    \n",
        "    std_normal = dist.Normal(0, 1)\n",
        "    sample_set = std_normal.sample(seed=key, sample_shape=[n_samples,])\n",
        "    sample_set = q_loc + q_scale * sample_set  # reparameterization trick \n",
        "    \n",
        "    #calculate log joint for each sample of z\n",
        "    p_log_prob = jax.vmap(log_prior_likelihood_jacobian, in_axes=(0, None))(sample_set, dataset)\n",
        "    \n",
        "    return jnp.mean(q.log_prob(sample_set) - p_log_prob)  "
      ],
      "id": "9ba6a667"
    },
    {
      "cell_type": "markdown",
      "metadata": {
        "id": "94b5122c"
      },
      "source": [
        "We now apply stochastic gradient descent to minimize negative ELBO and optimize the variational parameters (`loc` and `scale`)"
      ],
      "id": "94b5122c"
    },
    {
      "cell_type": "code",
      "execution_count": 11,
      "metadata": {
        "id": "e834dfe3",
        "colab": {
          "base_uri": "https://localhost:8080/",
          "height": 99
        },
        "outputId": "3ff8cfe2-78e2-415b-a38b-47acb8859156"
      },
      "outputs": [
        {
          "output_type": "stream",
          "name": "stderr",
          "text": [
            "WARNING:root:The use of `check_types` is deprecated and does not have any effect.\n"
          ]
        },
        {
          "output_type": "display_data",
          "data": {
            "text/plain": [
              "loss: \u001b[1;36m9.09147834777832\u001b[0m\n"
            ],
            "text/html": [
              "<pre style=\"white-space:pre;overflow-x:auto;line-height:normal;font-family:Menlo,'DejaVu Sans Mono',consolas,'Courier New',monospace\">loss: <span style=\"color: #008080; text-decoration-color: #008080; font-weight: bold\">9.09147834777832</span>\n",
              "</pre>\n"
            ]
          },
          "metadata": {}
        },
        {
          "output_type": "display_data",
          "data": {
            "text/plain": [
              "grads:\n",
              " loc: \u001b[1;36m4.692041397094727\u001b[0m\n",
              " scale: \u001b[1;36m0.6960504651069641\u001b[0m \n"
            ],
            "text/html": [
              "<pre style=\"white-space:pre;overflow-x:auto;line-height:normal;font-family:Menlo,'DejaVu Sans Mono',consolas,'Courier New',monospace\">grads:\n",
              " loc: <span style=\"color: #008080; text-decoration-color: #008080; font-weight: bold\">4.692041397094727</span>\n",
              " scale: <span style=\"color: #008080; text-decoration-color: #008080; font-weight: bold\">0.6960504651069641</span> \n",
              "</pre>\n"
            ]
          },
          "metadata": {}
        }
      ],
      "source": [
        "loss_and_grad_fn = jax.value_and_grad(negative_elbo, argnums=(0))\n",
        "loss_and_grad_fn = jax.jit(loss_and_grad_fn) # jit the loss_and_grad function\n",
        "\n",
        "params = {\"loc\": 0.0, \"scale\": 0.5}\n",
        "elbo, grads = loss_and_grad_fn(params, dataset)\n",
        "\n",
        "print(f\"loss: {elbo}\")\n",
        "print(f\"grads:\\n loc: {grads['loc']}\\n scale: {grads['scale']} \")\n",
        "\n",
        "optimizer = optax.adam(learning_rate = 0.01)\n",
        "opt_state = optimizer.init(params)"
      ],
      "id": "e834dfe3"
    },
    {
      "cell_type": "code",
      "execution_count": 12,
      "metadata": {
        "id": "48dcd6e8"
      },
      "outputs": [],
      "source": [
        "#jax scannable function for training\n",
        "def train_step(carry, data_output):\n",
        "\n",
        "    #take carry data\n",
        "    key = carry[\"key\"]\n",
        "    elbo = carry[\"elbo\"]\n",
        "    grads =  carry[\"grads\"]\n",
        "    params = carry[\"params\"]\n",
        "    opt_state = carry[\"opt_state\"]\n",
        "    updates = carry[\"updates\"]\n",
        "\n",
        "    #training \n",
        "    key, subkey = jax.random.split(key)\n",
        "    elbo, grads = loss_and_grad_fn(params, dataset, key = subkey)\n",
        "    updates, opt_state = optimizer.update(grads, opt_state)\n",
        "    params = optax.apply_updates(params, updates)\n",
        "\n",
        "    #forward carry to next iteration by storing it\n",
        "    carry =  { \"key\": subkey, \"elbo\": elbo, \"grads\": grads, \"params\": params,\n",
        "              \"opt_state\": opt_state, \"updates\": updates }\n",
        "\n",
        "    output = { \"elbo\": elbo, \"params\": params }\n",
        "\n",
        "    return carry, output\n"
      ],
      "id": "48dcd6e8"
    },
    {
      "cell_type": "code",
      "source": [
        "%%time\n",
        "\n",
        "#dummy iteration to pass carry to jax scannale function train()\n",
        "key, subkey = jax.random.split(key)\n",
        "elbo, grads = loss_and_grad_fn(params, dataset, key = subkey)\n",
        "updates, opt_state = optimizer.update(grads, opt_state)\n",
        "params = optax.apply_updates(params, updates)\n",
        "\n",
        "carry = {\n",
        "    \"key\": key,\n",
        "    \"elbo\": elbo,\n",
        "    \"grads\": grads,\n",
        "    \"params\": params,\n",
        "    \"opt_state\": opt_state,\n",
        "    \"updates\": updates\n",
        "}\n",
        "\n",
        "num_iter = 1000\n",
        "elbos = np.empty(num_iter)\n",
        "\n",
        "#apply scan() to optimize training loop \n",
        "last_carry, output = lax.scan(train_step, carry, elbos)\n",
        "\n",
        "elbo = output[\"elbo\"] \n",
        "params = output[\"params\"]\n",
        "optimized_params = last_carry[\"params\"]"
      ],
      "metadata": {
        "colab": {
          "base_uri": "https://localhost:8080/"
        },
        "id": "r-nFedcOSnLH",
        "outputId": "e0a9083d-6a05-4a0d-b333-455a5199d29d"
      },
      "id": "r-nFedcOSnLH",
      "execution_count": 13,
      "outputs": [
        {
          "output_type": "stream",
          "name": "stderr",
          "text": [
            "WARNING:root:The use of `check_types` is deprecated and does not have any effect.\n",
            "WARNING:root:The use of `check_types` is deprecated and does not have any effect.\n"
          ]
        },
        {
          "output_type": "stream",
          "name": "stdout",
          "text": [
            "CPU times: user 1.79 s, sys: 24 ms, total: 1.81 s\n",
            "Wall time: 1.94 s\n"
          ]
        }
      ]
    },
    {
      "cell_type": "code",
      "source": [
        "print(params['loc'].shape)\n",
        "print(params['scale'].shape)"
      ],
      "metadata": {
        "colab": {
          "base_uri": "https://localhost:8080/",
          "height": 49
        },
        "id": "JtMxRokq6DmD",
        "outputId": "40fff844-4264-4c30-cb32-defcba940fee"
      },
      "id": "JtMxRokq6DmD",
      "execution_count": 22,
      "outputs": [
        {
          "output_type": "display_data",
          "data": {
            "text/plain": [
              "\u001b[1m(\u001b[0m\u001b[1;36m1000\u001b[0m,\u001b[1m)\u001b[0m\n"
            ],
            "text/html": [
              "<pre style=\"white-space:pre;overflow-x:auto;line-height:normal;font-family:Menlo,'DejaVu Sans Mono',consolas,'Courier New',monospace\"><span style=\"font-weight: bold\">(</span><span style=\"color: #008080; text-decoration-color: #008080; font-weight: bold\">1000</span>,<span style=\"font-weight: bold\">)</span>\n",
              "</pre>\n"
            ]
          },
          "metadata": {}
        },
        {
          "output_type": "display_data",
          "data": {
            "text/plain": [
              "\u001b[1m(\u001b[0m\u001b[1;36m1000\u001b[0m,\u001b[1m)\u001b[0m\n"
            ],
            "text/html": [
              "<pre style=\"white-space:pre;overflow-x:auto;line-height:normal;font-family:Menlo,'DejaVu Sans Mono',consolas,'Courier New',monospace\"><span style=\"font-weight: bold\">(</span><span style=\"color: #008080; text-decoration-color: #008080; font-weight: bold\">1000</span>,<span style=\"font-weight: bold\">)</span>\n",
              "</pre>\n"
            ]
          },
          "metadata": {}
        }
      ]
    },
    {
      "cell_type": "markdown",
      "metadata": {
        "id": "bbbbdef9"
      },
      "source": [
        "We now plot the ELBO  "
      ],
      "id": "bbbbdef9"
    },
    {
      "cell_type": "code",
      "source": [
        "plt.plot(elbo)\n",
        "plt.xlabel(\"Iterations\")\n",
        "plt.ylabel(\"Negative ELBO\")\n",
        "sns.despine()\n",
        "plt.savefig('advi_beta_binom_jax_loss.pdf')"
      ],
      "metadata": {
        "colab": {
          "base_uri": "https://localhost:8080/",
          "height": 282
        },
        "id": "a__PZbi740j0",
        "outputId": "1a8fbaf2-7d34-498f-c10e-c547e41c1b79"
      },
      "id": "a__PZbi740j0",
      "execution_count": 15,
      "outputs": [
        {
          "output_type": "display_data",
          "data": {
            "text/plain": [
              "<Figure size 432x288 with 1 Axes>"
            ],
            "image/png": "[encoded data removed]"
          },
          "metadata": {
            "needs_background": "light"
          }
        }
      ]
    },
    {
      "cell_type": "markdown",
      "metadata": {
        "id": "d3505fd3"
      },
      "source": [
        "We can see that after 200 iterations ELBO is optimized and not changing too much."
      ],
      "id": "d3505fd3"
    },
    {
      "cell_type": "markdown",
      "metadata": {
        "id": "2_wanxQtgbbx"
      },
      "source": [
        "## Samples using Optimized parameters "
      ],
      "id": "2_wanxQtgbbx"
    },
    {
      "cell_type": "markdown",
      "metadata": {
        "id": "b84fc72d"
      },
      "source": [
        "Now, we take 1000 samples from variational distribution (Normal) and transform them into true posterior distribution (Beta) by applying `tranform_fn` (sigmoid) on samples. Then we compare density of samples with exact posterior."
      ],
      "id": "b84fc72d"
    },
    {
      "cell_type": "code",
      "execution_count": 43,
      "metadata": {
        "id": "4cf71065",
        "colab": {
          "base_uri": "https://localhost:8080/",
          "height": 299
        },
        "outputId": "91d330cc-68ba-4bf8-c499-fbb09fd2d1d4"
      },
      "outputs": [
        {
          "output_type": "stream",
          "name": "stderr",
          "text": [
            "WARNING:root:The use of `check_types` is deprecated and does not have any effect.\n"
          ]
        },
        {
          "output_type": "display_data",
          "data": {
            "text/plain": [
              "<Figure size 432x288 with 1 Axes>"
            ],
            "image/png": "[encoded data removed]"
          },
          "metadata": {
            "needs_background": "light"
          }
        }
      ],
      "source": [
        "q_learned = variational_distribution_q(optimized_params)\n",
        "key, subkey = jax.random.split(key)\n",
        "q_learned_samples = q_learned.sample(1000, seed=key) # q(z|D)\n",
        "transformed_samples = transform_fn(q_learned_samples) #transform Normal samples into Beta samples\n",
        "\n",
        "theta_range = jnp.linspace(0.01,0.99,100)\n",
        "plt.plot(theta_range, exact_posterior.prob(theta_range),\"r\" , label=\"$p(x)$: True Posterior\")\n",
        "sns.kdeplot(transformed_samples, color=\"blue\" ,label=\"$q(x)$ learned\", bw_adjust=2)\n",
        "\n",
        "plt.xlabel(\"theta\")\n",
        "plt.legend() #bbox_to_anchor=(1.5, 1));\n",
        "sns.despine();\n",
        "\n",
        "plt.savefig('advi_beta_binom_jax_posterior.pdf')"
      ],
      "id": "4cf71065"
    },
    {
      "cell_type": "markdown",
      "source": [
        "We can see that the learned `q(x)` is a reasonably good approximation to the true posterior. It seems to have support over negative theta but this is an artefact of KDE.\n"
      ],
      "metadata": {
        "id": "V1D7juJV9J22"
      },
      "id": "V1D7juJV9J22"
    },
    {
      "cell_type": "code",
      "source": [
        "#print(transformed_samples)\n",
        "print(len(transformed_samples))\n",
        "print(jnp.sum(transformed_samples < 0)) # all samples of thetas should be in [0,1]\n",
        "print(jnp.sum(transformed_samples > 1)) # all samples of thetas should be in [0,1]"
      ],
      "metadata": {
        "colab": {
          "base_uri": "https://localhost:8080/",
          "height": 65
        },
        "id": "FaU7odF-9TFn",
        "outputId": "f6a24911-0580-4857-a8a8-1ced72c8973c"
      },
      "id": "FaU7odF-9TFn",
      "execution_count": 36,
      "outputs": [
        {
          "output_type": "display_data",
          "data": {
            "text/plain": [
              "\u001b[1;36m1000\u001b[0m\n"
            ],
            "text/html": [
              "<pre style=\"white-space:pre;overflow-x:auto;line-height:normal;font-family:Menlo,'DejaVu Sans Mono',consolas,'Courier New',monospace\"><span style=\"color: #008080; text-decoration-color: #008080; font-weight: bold\">1000</span>\n",
              "</pre>\n"
            ]
          },
          "metadata": {}
        },
        {
          "output_type": "display_data",
          "data": {
            "text/plain": [
              "\u001b[1;36m0\u001b[0m\n"
            ],
            "text/html": [
              "<pre style=\"white-space:pre;overflow-x:auto;line-height:normal;font-family:Menlo,'DejaVu Sans Mono',consolas,'Courier New',monospace\"><span style=\"color: #008080; text-decoration-color: #008080; font-weight: bold\">0</span>\n",
              "</pre>\n"
            ]
          },
          "metadata": {}
        },
        {
          "output_type": "display_data",
          "data": {
            "text/plain": [
              "\u001b[1;36m0\u001b[0m\n"
            ],
            "text/html": [
              "<pre style=\"white-space:pre;overflow-x:auto;line-height:normal;font-family:Menlo,'DejaVu Sans Mono',consolas,'Courier New',monospace\"><span style=\"color: #008080; text-decoration-color: #008080; font-weight: bold\">0</span>\n",
              "</pre>\n"
            ]
          },
          "metadata": {}
        }
      ]
    },
    {
      "cell_type": "code",
      "source": [
        "print(q_learned)\n",
        "print(q_learned.mean())\n",
        "print(jnp.sqrt(q_learned.variance()))"
      ],
      "metadata": {
        "colab": {
          "base_uri": "https://localhost:8080/",
          "height": 100
        },
        "id": "MDigrSzC8GE7",
        "outputId": "ee0f98cd-7949-4a93-9ec1-152d22e1432f"
      },
      "id": "MDigrSzC8GE7",
      "execution_count": 29,
      "outputs": [
        {
          "output_type": "stream",
          "name": "stderr",
          "text": [
            "WARNING:root:The use of `check_types` is deprecated and does not have any effect.\n",
            "WARNING:root:The use of `check_types` is deprecated and does not have any effect.\n"
          ]
        },
        {
          "output_type": "display_data",
          "data": {
            "text/plain": [
              "\u001b[1;35mtfp.distributions.Normal\u001b[0m\u001b[1m(\u001b[0m\u001b[32m\"Normal\"\u001b[0m, \u001b[33mbatch_shape\u001b[0m=\u001b[1m[\u001b[0m\u001b[1m]\u001b[0m, \u001b[33mevent_shape\u001b[0m=\u001b[1m[\u001b[0m\u001b[1m]\u001b[0m, \u001b[33mdtype\u001b[0m=\u001b[35mfloat32\u001b[0m\u001b[1m)\u001b[0m\n"
            ],
            "text/html": [
              "<pre style=\"white-space:pre;overflow-x:auto;line-height:normal;font-family:Menlo,'DejaVu Sans Mono',consolas,'Courier New',monospace\"><span style=\"color: #800080; text-decoration-color: #800080; font-weight: bold\">tfp.distributions.Normal</span><span style=\"font-weight: bold\">(</span><span style=\"color: #008000; text-decoration-color: #008000\">\"Normal\"</span>, <span style=\"color: #808000; text-decoration-color: #808000\">batch_shape</span>=<span style=\"font-weight: bold\">[]</span>, <span style=\"color: #808000; text-decoration-color: #808000\">event_shape</span>=<span style=\"font-weight: bold\">[]</span>, <span style=\"color: #808000; text-decoration-color: #808000\">dtype</span>=<span style=\"color: #800080; text-decoration-color: #800080\">float32</span><span style=\"font-weight: bold\">)</span>\n",
              "</pre>\n"
            ]
          },
          "metadata": {}
        },
        {
          "output_type": "display_data",
          "data": {
            "text/plain": [
              "\u001b[1;36m-1.9198774\u001b[0m\n"
            ],
            "text/html": [
              "<pre style=\"white-space:pre;overflow-x:auto;line-height:normal;font-family:Menlo,'DejaVu Sans Mono',consolas,'Courier New',monospace\"><span style=\"color: #008080; text-decoration-color: #008080; font-weight: bold\">-1.9198774</span>\n",
              "</pre>\n"
            ]
          },
          "metadata": {}
        },
        {
          "output_type": "display_data",
          "data": {
            "text/plain": [
              "\u001b[1;36m0.81089455\u001b[0m\n"
            ],
            "text/html": [
              "<pre style=\"white-space:pre;overflow-x:auto;line-height:normal;font-family:Menlo,'DejaVu Sans Mono',consolas,'Courier New',monospace\"><span style=\"color: #008080; text-decoration-color: #008080; font-weight: bold\">0.81089455</span>\n",
              "</pre>\n"
            ]
          },
          "metadata": {}
        }
      ]
    },
    {
      "cell_type": "code",
      "source": [
        "locs, scales = params[\"loc\"], params[\"scale\"]\n",
        "sigmas = positivity_fn(jnp.array(scales))\n",
        "\n",
        "plt.plot(locs, label=\"mu\")\n",
        "plt.xlabel(\"Iterations\")\n",
        "plt.ylabel(\"E_q[z)]\")\n",
        "plt.legend()\n",
        "sns.despine();\n",
        "plt.savefig('advi_beta_binom_jax_post_mu_vs_time.pdf')\n",
        "plt.show()\n",
        "\n",
        "plt.plot(sigmas, label=\"sigma\")\n",
        "plt.xlabel(\"Iterations\")\n",
        "#plt.ylabel(r'$\\sqrt{\\text{var}(z)}')\n",
        "plt.ylabel(\"std_{q}[z]\")\n",
        "plt.legend()\n",
        "sns.despine();\n",
        "plt.savefig('advi_beta_binom_jax_post_sigma_vs_time.pdf')\n",
        "plt.show()\n",
        "\n"
      ],
      "metadata": {
        "colab": {
          "base_uri": "https://localhost:8080/",
          "height": 547
        },
        "id": "Ou1lgfiH531a",
        "outputId": "37320687-8662-4cc0-bf58-3c063f1ef1c5"
      },
      "id": "Ou1lgfiH531a",
      "execution_count": 32,
      "outputs": [
        {
          "output_type": "display_data",
          "data": {
            "text/plain": [
              "<Figure size 432x288 with 1 Axes>"
            ],
            "image/png": "[encoded data removed]"
          },
          "metadata": {
            "needs_background": "light"
          }
        },
        {
          "output_type": "display_data",
          "data": {
            "text/plain": [
              "<Figure size 432x288 with 1 Axes>"
            ],
            "image/png": "[encoded data removed]"
          },
          "metadata": {
            "needs_background": "light"
          }
        }
      ]
    },
    {
      "cell_type": "markdown",
      "metadata": {
        "id": "f5db58f0"
      },
      "source": [
        "\n",
        "## Comparison with pymc.ADVI() \n",
        "\n",
        "Now, we compare our implementation with pymc's ADVI implementation. \n",
        "\n",
        "\n",
        "**Note**: For pymc implementation, the code is taken from this notebook: https://github.com/probml/probml-notebooks/blob/main/notebooks/beta_binom_approx_post_pymc.ipynb"
      ],
      "id": "f5db58f0"
    },
    {
      "cell_type": "code",
      "execution_count": 37,
      "metadata": {
        "id": "c3ab49e8"
      },
      "outputs": [],
      "source": [
        "try:\n",
        "    import pymc3 as pm\n",
        "except ModuleNotFoundError:\n",
        "    %pip install pymc3\n",
        "    import pymc3 as pm\n",
        "try:    \n",
        "    import scipy.stats as stats\n",
        "except ModuleNotFoundError:\n",
        "    %pip install scipy\n",
        "    import scipy.stats as stats\n",
        "    \n",
        "import scipy.special as sp\n",
        "\n",
        "try:\n",
        "    import arviz as az\n",
        "except ModuleNotFoundError:\n",
        "    %pip install arviz\n",
        "    import arviz as az\n",
        "    \n",
        "import math"
      ],
      "id": "c3ab49e8"
    },
    {
      "cell_type": "code",
      "execution_count": 38,
      "metadata": {
        "colab": {
          "base_uri": "https://localhost:8080/",
          "height": 37
        },
        "id": "2d7794f3",
        "outputId": "a8cd71c2-f09b-4c38-c4bd-05faf33f9117"
      },
      "outputs": [
        {
          "output_type": "display_data",
          "data": {
            "text/plain": [
              "<IPython.core.display.HTML object>"
            ],
            "text/html": [
              "\n",
              "<style>\n",
              "    /* Turns off some styling */\n",
              "    progress {\n",
              "        /* gets rid of default border in Firefox and Opera. */\n",
              "        border: none;\n",
              "        /* Needs to be in here for Safari polyfill so background images work as expected. */\n",
              "        background-size: auto;\n",
              "    }\n",
              "    .progress-bar-interrupted, .progress-bar-interrupted::-webkit-progress-bar {\n",
              "        background: #F44336;\n",
              "    }\n",
              "</style>\n"
            ]
          },
          "metadata": {}
        },
        {
          "output_type": "display_data",
          "data": {
            "text/plain": [
              "<IPython.core.display.HTML object>"
            ],
            "text/html": [
              "\n",
              "    <div>\n",
              "      <progress value='20000' class='' max='20000' style='width:300px; height:20px; vertical-align: middle;'></progress>\n",
              "      100.00% [20000/20000 00:02<00:00 Average Loss = 4.9009]\n",
              "    </div>\n",
              "    "
            ]
          },
          "metadata": {}
        }
      ],
      "source": [
        "a = prior_dist().concentration1\n",
        "b = prior_dist().concentration0\n",
        "\n",
        "\n",
        "with pm.Model() as mf_model:\n",
        "    theta = pm.Beta(\"theta\", a, b)\n",
        "    y = pm.Binomial(\"y\", n=1, p=theta, observed=dataset)  # Bernoulli\n",
        "    advi = pm.ADVI()\n",
        "    tracker = pm.callbacks.Tracker(\n",
        "        mean=advi.approx.mean.eval,  # callable that returns mean\n",
        "        std=advi.approx.std.eval,  # callable that returns std\n",
        "    )\n",
        "    approx = advi.fit(callbacks=[tracker],n=20000)\n",
        "\n",
        "trace_approx = approx.sample(1000)\n",
        "thetas = trace_approx[\"theta\"]"
      ],
      "id": "2d7794f3"
    },
    {
      "cell_type": "code",
      "execution_count": 39,
      "metadata": {
        "colab": {
          "base_uri": "https://localhost:8080/",
          "height": 282
        },
        "id": "4W8e7Dp9N1As",
        "outputId": "7c84681f-bc08-4f04-a2e2-53b4230a3a57"
      },
      "outputs": [
        {
          "output_type": "display_data",
          "data": {
            "text/plain": [
              "<Figure size 432x288 with 1 Axes>"
            ],
            "image/png": "[encoded data removed]"
          },
          "metadata": {
            "needs_background": "light"
          }
        }
      ],
      "source": [
        "plt.plot(advi.hist, label=\"ELBO\")\n",
        "plt.xlabel(\"Iterations\")\n",
        "plt.ylabel(\"ELBO\")\n",
        "plt.legend()\n",
        "sns.despine();\n",
        "plt.savefig('advi_beta_binom_pymc_loss.pdf')\n",
        "plt.show()"
      ],
      "id": "4W8e7Dp9N1As"
    },
    {
      "cell_type": "code",
      "execution_count": 40,
      "metadata": {
        "colab": {
          "base_uri": "https://localhost:8080/",
          "height": 65
        },
        "id": "w4ZWgVXua04j",
        "outputId": "806caad6-d32f-47b0-c50a-838fac7a641d"
      },
      "outputs": [
        {
          "output_type": "display_data",
          "data": {
            "text/plain": [
              "ELBO comparison for last \u001b[1;36m1\u001b[0m% iterations:\n",
              "JAX ELBO: \u001b[1;36m4.899871826171875\u001b[0m\n",
              "Pymc ELBO: \u001b[1;36m4.928446743267444\u001b[0m\n"
            ],
            "text/html": [
              "<pre style=\"white-space:pre;overflow-x:auto;line-height:normal;font-family:Menlo,'DejaVu Sans Mono',consolas,'Courier New',monospace\">ELBO comparison for last <span style=\"color: #008080; text-decoration-color: #008080; font-weight: bold\">1</span>% iterations:\n",
              "JAX ELBO: <span style=\"color: #008080; text-decoration-color: #008080; font-weight: bold\">4.899871826171875</span>\n",
              "Pymc ELBO: <span style=\"color: #008080; text-decoration-color: #008080; font-weight: bold\">4.928446743267444</span>\n",
              "</pre>\n"
            ]
          },
          "metadata": {}
        }
      ],
      "source": [
        "print(f\"ELBO comparison for last 1% iterations:\\nJAX ELBO: {elbo[-10:].mean()}\\nPymc ELBO: {advi.hist[-100:].mean()}\")"
      ],
      "id": "w4ZWgVXua04j"
    },
    {
      "cell_type": "markdown",
      "metadata": {
        "id": "53f16a33"
      },
      "source": [
        "## True posterior, JAX q(x), and pymc q(x) "
      ],
      "id": "53f16a33"
    },
    {
      "cell_type": "code",
      "execution_count": 41,
      "metadata": {
        "colab": {
          "base_uri": "https://localhost:8080/",
          "height": 282
        },
        "id": "f46083ff",
        "outputId": "b1ae81e7-23c2-4540-e324-479cf7dac55a"
      },
      "outputs": [
        {
          "output_type": "display_data",
          "data": {
            "text/plain": [
              "<Figure size 432x288 with 1 Axes>"
            ],
            "image/png": "[encoded data removed]"
          },
          "metadata": {
            "needs_background": "light"
          }
        }
      ],
      "source": [
        "plt.plot(theta_range, exact_posterior.prob(theta_range), \"b--\", label=\"$p(x)$: True Posterior\")\n",
        "sns.kdeplot(transformed_samples, color=\"red\", label=\"$q(x)$: learnt - jax\", bw_adjust=2)\n",
        "sns.kdeplot(thetas, label=\"$q(x)$: learnt - pymc\", bw_adjust=2)\n",
        "plt.xlabel(\"theta\")\n",
        "plt.legend(bbox_to_anchor=(1.3, 1))\n",
        "sns.despine()"
      ],
      "id": "f46083ff"
    },
    {
      "cell_type": "markdown",
      "metadata": {
        "id": "82994180"
      },
      "source": [
        "## Plot of loc and scale for variational distribution"
      ],
      "id": "82994180"
    },
    {
      "cell_type": "code",
      "execution_count": 42,
      "metadata": {
        "colab": {
          "base_uri": "https://localhost:8080/",
          "height": 530
        },
        "id": "KRG3SGdPcxkW",
        "outputId": "54d1e49d-fcf8-4d59-d919-16facee37b9d"
      },
      "outputs": [
        {
          "output_type": "display_data",
          "data": {
            "text/plain": [
              "<Figure size 720x288 with 2 Axes>"
            ],
            "image/png": "[encoded data removed]"
          },
          "metadata": {
            "needs_background": "light"
          }
        },
        {
          "output_type": "display_data",
          "data": {
            "text/plain": [
              "<Figure size 720x288 with 2 Axes>"
            ],
            "image/png": "[encoded data removed]"
          },
          "metadata": {
            "needs_background": "light"
          }
        }
      ],
      "source": [
        "fig1, (ax1,ax2) =  plt.subplots(1,2, figsize = (10,4), sharey=True)\n",
        "locs, scales = params[\"loc\"], params[\"scale\"]\n",
        "\n",
        "#plot loc\n",
        "\n",
        "#JAX\n",
        "ax1.plot(locs, label=\"JAX: loc\")\n",
        "ax1.set_ylabel(\"loc\")\n",
        "ax1.legend();\n",
        "\n",
        "#pymc\n",
        "ax2.plot(tracker['mean'], label=\"Pymc: loc\")\n",
        "ax2.legend()\n",
        "sns.despine()\n",
        "\n",
        "\n",
        "#plot scale\n",
        "fig2, (ax3,ax4) =  plt.subplots(1,2, figsize = (10,4), sharey=True)\n",
        "\n",
        "#JAX\n",
        "ax3.plot(positivity_fn(jnp.array(scales)), label=\"JAX: scale\"); #apply softplus on scale\n",
        "ax3.set_xlabel(\"Iterations\")\n",
        "ax3.set_ylabel(\"scale\")\n",
        "ax3.legend();\n",
        "\n",
        "#pymc\n",
        "ax4.plot(tracker['std'], label=\"Pymc: scale\")\n",
        "ax4.set_xlabel(\"Iterations\")\n",
        "ax4.legend();\n",
        "\n",
        "sns.despine();"
      ],
      "id": "KRG3SGdPcxkW"
    },
    {
      "cell_type": "markdown",
      "source": [
        "## References:\n",
        "\n",
        "1. ADVI paper: https://arxiv.org/abs/1603.00788\n",
        "2. Blog: https://code-first-ml.github.io/book2/notebooks/introduction/variational.html\n",
        "3. Blog: https://luiarthur.github.io/statorial/varinf/introvi/\n",
        "4. Video: https://www.youtube.com/watch?v=HxQ94L8n0vU \n",
        "5. Github issue: https://github.com/pyro-ppl/pyro/issues/3016#:~:text=loc%3D%27upper%20right%27)-,Bandwidth%20adjustment,-Another%20thing%20to\n",
        "6. Blog: https://ericmjl.github.io/dl-workshop/02-jax-idioms/02-loopy-carry.html"
      ],
      "metadata": {
        "id": "gf2lVoeQOF07"
      },
      "id": "gf2lVoeQOF07"
    },
    {
      "cell_type": "code",
      "execution_count": null,
      "metadata": {
        "id": "5e5a2980"
      },
      "outputs": [],
      "source": [
        ""
      ],
      "id": "5e5a2980"
    }
  ],
  "metadata": {
    "accelerator": "GPU",
    "colab": {
      "collapsed_sections": [],
      "name": "advi_beta_binom_jax.ipynb",
      "provenance": [],
      "include_colab_link": true
    },
    "kernelspec": {
      "display_name": "Python 3",
      "name": "python3"
    },
    "language_info": {
      "name": "python"
    }
  },
  "nbformat": 4,
  "nbformat_minor": 5
}