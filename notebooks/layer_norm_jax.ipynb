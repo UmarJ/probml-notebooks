{
  "nbformat": 4,
  "nbformat_minor": 0,
  "metadata": {
    "colab": {
      "name": "layer-norm-torch-jax.ipynb",
      "provenance": [],
      "collapsed_sections": []
    },
    "kernelspec": {
      "name": "python3",
      "display_name": "Python 3"
    },
    "language_info": {
      "name": "python"
    }
  },
  "cells": [
    {
      "cell_type": "code",
      "source": [
        "!pip install -q flax"
      ],
      "metadata": {
        "id": "b_qFXPuEPCKk"
      },
      "execution_count": 62,
      "outputs": []
    },
    {
      "cell_type": "code",
      "metadata": {
        "id": "pxxCjM4AIsZP"
      },
      "source": [
        "import numpy as np\n",
        "import matplotlib.pyplot as plt\n",
        "import math\n",
        "import collections\n",
        "\n",
        "import jax\n",
        "import jax.numpy as jnp\n",
        "from flax import linen as nn"
      ],
      "execution_count": 63,
      "outputs": []
    },
    {
      "cell_type": "code",
      "metadata": {
        "colab": {
          "base_uri": "https://localhost:8080/"
        },
        "id": "OcFY2bZeImQI",
        "outputId": "6171fc7d-dd21-4fc4-982b-60b65737019d"
      },
      "source": [
        "# batch size 3, feature size 2\n",
        "np.random.seed(42)\n",
        "X = np.random.normal(size=(2, 3))\n",
        "\n",
        "print('batch norm')\n",
        "mu_batch = np.mean(X, axis=0)\n",
        "sigma_batch = np.std(X, axis=0)\n",
        "XBN = (X-mu_batch)/sigma_batch\n",
        "print(XBN)\n",
        "\n",
        "print('layer norm')\n",
        "mu_layer = np.expand_dims(np.mean(X, axis=1), axis=1)\n",
        "sigma_layer = np.expand_dims(np.std(X, axis=1), axis=1)\n",
        "XLN = (X-mu_layer)/sigma_layer\n",
        "print(XLN)"
      ],
      "execution_count": 64,
      "outputs": [
        {
          "output_type": "stream",
          "name": "stdout",
          "text": [
            "batch norm\n",
            "[[-1.  1.  1.]\n",
            " [ 1. -1. -1.]]\n",
            "layer norm\n",
            "[[ 0.47376014 -1.39085732  0.91709718]\n",
            " [ 1.41421356 -0.70711669 -0.70709687]]\n"
          ]
        }
      ]
    },
    {
      "cell_type": "code",
      "metadata": {
        "colab": {
          "base_uri": "https://localhost:8080/"
        },
        "id": "6p9f1kSyJbuT",
        "outputId": "df7f66a5-7af0-481a-b859-04eda332f5a5"
      },
      "source": [
        "X = jnp.float32(X)\n",
        "\n",
        "rng = jax.random.PRNGKey(42)\n",
        "bn_rng, ln_rng = jax.random.split(rng)\n",
        "\n",
        "bn = nn.BatchNorm(use_running_average=False, epsilon=1e-6)\n",
        "ln = nn.LayerNorm()\n",
        "\n",
        "print('batch norm')\n",
        "bn_params = bn.init(bn_rng, X)\n",
        "XBN_t, _ = bn.apply(bn_params, X, mutable=['batch_stats'])\n",
        "print(XBN_t)\n",
        "assert(np.allclose(np.array(XBN_t), XBN, atol=1e-3))\n",
        "\n",
        "print('layer norm')\n",
        "ln_params = ln.init(ln_rng, X)\n",
        "XLN_t = ln.apply(ln_params, X)\n",
        "print(XLN_t)\n",
        "assert(np.allclose(np.array(XLN_t), XLN, atol=1e-3))"
      ],
      "execution_count": 77,
      "outputs": [
        {
          "output_type": "stream",
          "name": "stdout",
          "text": [
            "batch norm\n",
            "[[-0.99999815  0.99978346  0.99999744]\n",
            " [ 0.99999815 -0.9997831  -0.9999975 ]]\n",
            "layer norm\n",
            "[[ 0.473758   -1.3908514   0.9170933 ]\n",
            " [ 1.4142125  -0.70711625 -0.7070964 ]]\n"
          ]
        }
      ]
    },
    {
      "cell_type": "code",
      "source": [
        ""
      ],
      "metadata": {
        "id": "qClbHWmEVMbg"
      },
      "execution_count": null,
      "outputs": []
    }
  ]
}