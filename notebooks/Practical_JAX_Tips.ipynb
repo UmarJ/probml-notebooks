{
  "nbformat": 4,
  "nbformat_minor": 0,
  "metadata": {
    "colab": {
      "name": "Practical_JAX_Tips.ipynb",
      "provenance": [],
      "collapsed_sections": []
    },
    "kernelspec": {
      "name": "python3",
      "display_name": "Python 3"
    },
    "language_info": {
      "name": "python"
    }
  },
  "cells": [
    {
      "cell_type": "code",
      "execution_count": null,
      "metadata": {
        "id": "MBsqFAPXMiqe"
      },
      "outputs": [],
      "source": [
        "import jax\n",
        "import jax.numpy as jnp\n",
        "from IPython.display import display, Latex"
      ]
    },
    {
      "cell_type": "markdown",
      "source": [
        "## If else condition with `lax`\n",
        "\n",
        "$$\n",
        "f(\\mathbf{x}) = \\sum_{x \\in \\mathbf{x}} \\begin{cases}\n",
        "    x^2,& \\text{if } x \\gt 5\\\\\n",
        "    x^3,             & \\text{otherwise}\n",
        "\\end{cases}\n",
        "$$"
      ],
      "metadata": {
        "id": "2JxtNUiINtTk"
      }
    },
    {
      "cell_type": "code",
      "source": [
        "x = [jnp.array(10.0), jnp.array(2.0)]\n",
        "\n",
        "@jax.jit\n",
        "@jax.value_and_grad\n",
        "def f(x):\n",
        "  bool_val = jax.tree_map(lambda val: val > 5.0, x)\n",
        "  ans = jax.tree_map(lambda val, bool: jax.lax.cond(bool, lambda: val**2, lambda: val**3), x, bool_val)\n",
        "  return jax.tree_util.tree_reduce(lambda a, b: a + b, ans)\n",
        "\n",
        "value, grad = f(x)\n",
        "\n",
        "display(Latex(f\"$f(\\mathbf{{x}}) = {value}$\"))\n",
        "for idx in range(len(x)):\n",
        "  display(Latex(f\"$\\\\frac{{df}}{{dx_{idx}}} = {grad[idx]}$\"))"
      ],
      "metadata": {
        "colab": {
          "base_uri": "https://localhost:8080/",
          "height": 103
        },
        "id": "CZJJFRtvNz-f",
        "outputId": "994e417f-d8dc-4080-aa6a-7cca12889419"
      },
      "execution_count": null,
      "outputs": [
        {
          "output_type": "stream",
          "name": "stderr",
          "text": [
            "WARNING:absl:No GPU/TPU found, falling back to CPU. (Set TF_CPP_MIN_LOG_LEVEL=0 and rerun for more info.)\n"
          ]
        },
        {
          "output_type": "display_data",
          "data": {
            "text/plain": [
              "<IPython.core.display.Latex object>"
            ],
            "text/latex": "$f(\\mathbf{x}) = 108.0$"
          },
          "metadata": {}
        },
        {
          "output_type": "display_data",
          "data": {
            "text/plain": [
              "<IPython.core.display.Latex object>"
            ],
            "text/latex": "$\\frac{df}{dx_0} = 20.0$"
          },
          "metadata": {}
        },
        {
          "output_type": "display_data",
          "data": {
            "text/plain": [
              "<IPython.core.display.Latex object>"
            ],
            "text/latex": "$\\frac{df}{dx_1} = 12.0$"
          },
          "metadata": {}
        }
      ]
    },
    {
      "cell_type": "markdown",
      "source": [
        "## Pair-wise distance with `vmap`"
      ],
      "metadata": {
        "id": "1uMlNxkVMmVd"
      }
    },
    {
      "cell_type": "code",
      "source": [
        "# create vour pairwise function\n",
        "def distance(a, b):\n",
        "    return jnp.linalg.norm(a - b)\n",
        "\n",
        "\n",
        "# map based combinator to operate on all pairs\n",
        "def all_pairs(f):\n",
        "    f = jax.vmap(f, in_axes=(None, 0))\n",
        "    f = jax.vmap(f, in_axes=(0, None))\n",
        "    return f\n",
        "\n",
        "\n",
        "# transform to operate over sets\n",
        "distances = all_pairs(distance)\n",
        "\n",
        "# Example\n",
        "x = jnp.array([1.0, 2.0, 3.0])\n",
        "y = jnp.array([3.0, 4.0, 5.0])\n",
        "distances(x, y)"
      ],
      "metadata": {
        "colab": {
          "base_uri": "https://localhost:8080/"
        },
        "id": "9FhnhGDnM6hF",
        "outputId": "aa20bc05-13ed-4fe7-ff08-c4bc756cf1cc"
      },
      "execution_count": null,
      "outputs": [
        {
          "output_type": "execute_result",
          "data": {
            "text/plain": [
              "DeviceArray([[2., 3., 4.],\n",
              "             [1., 2., 3.],\n",
              "             [0., 1., 2.]], dtype=float32)"
            ]
          },
          "metadata": {},
          "execution_count": 3
        }
      ]
    },
    {
      "cell_type": "markdown",
      "source": [
        "## Compute Hessian with `jax`\n",
        "\n",
        "Let us consider Linear regression loss function\n",
        "\n",
        "\\begin{align}\n",
        "\\mathcal{L}(\\boldsymbol{\\theta}) &= (\\boldsymbol{y} - X\\boldsymbol{\\theta})^T(\\boldsymbol{y} - X\\boldsymbol{\\theta})\\\\\n",
        "\\frac{d\\mathcal{L}}{d\\boldsymbol{\\theta}} &= -2X^T\\boldsymbol{y} + 2X^TX\\boldsymbol{\\theta}\\\\\n",
        "H_{\\mathcal{L}}(\\boldsymbol{\\theta}) &= 2X^TX\n",
        "\\end{align}"
      ],
      "metadata": {
        "id": "wofUJf4zQFj2"
      }
    },
    {
      "cell_type": "code",
      "source": [
        "def loss_function_per_point(theta, x, y):\n",
        "  y_pred = x.T@theta\n",
        "  return jnp.square(y_pred - y)\n",
        "\n",
        "def loss_function(theta, x, y):\n",
        "  loss_per_point = jax.vmap(loss_function_per_point, in_axes=(None, 0, 0))(theta, x, y)\n",
        "  return jnp.sum(loss_per_point)\n",
        "\n",
        "def gt_loss(theta, x, y):\n",
        "  return jnp.sum(jnp.square(x@theta - y))\n",
        "\n",
        "def gt_grad(theta, x, y):\n",
        "  return 2 * (x.T@x@theta - x.T@y)\n",
        "\n",
        "def gt_hess(theta, x, y):\n",
        "  return 2 * x.T@x "
      ],
      "metadata": {
        "id": "zoN-MNLQQE1L"
      },
      "execution_count": null,
      "outputs": []
    },
    {
      "cell_type": "markdown",
      "source": [
        "### Simulate dataset "
      ],
      "metadata": {
        "id": "DmCeqENNXNk1"
      }
    },
    {
      "cell_type": "code",
      "source": [
        "key = jax.random.PRNGKey(0)\n",
        "key, subkey1, subkey2 = jax.random.split(key, num=3)\n",
        "N = 100\n",
        "D = 11\n",
        "x = jax.random.uniform(key, shape=(N, D))\n",
        "y = jax.random.uniform(subkey1, shape=(N,))\n",
        "theta = jax.random.uniform(subkey2, shape=(D,))"
      ],
      "metadata": {
        "id": "j6IGQjpaUICp"
      },
      "execution_count": null,
      "outputs": []
    },
    {
      "cell_type": "markdown",
      "source": [
        "### Verify loss and gradient values"
      ],
      "metadata": {
        "id": "I3kkVJbfXVLy"
      }
    },
    {
      "cell_type": "code",
      "source": [
        "loss_and_grad_function = jax.value_and_grad(loss_function)\n",
        "\n",
        "loss_val, grad = loss_and_grad_function(theta, x, y)\n",
        "\n",
        "assert jnp.allclose(loss_val, gt_loss(theta, x, y))\n",
        "assert jnp.allclose(grad, gt_grad(theta, x, y))"
      ],
      "metadata": {
        "id": "8f77RVCIUJz5"
      },
      "execution_count": null,
      "outputs": []
    },
    {
      "cell_type": "markdown",
      "source": [
        "### Verify hessian matrix"
      ],
      "metadata": {
        "id": "2-tcNFUfXeFw"
      }
    },
    {
      "cell_type": "markdown",
      "source": [
        "#### Way-1 "
      ],
      "metadata": {
        "id": "lx7CnyUDXq2S"
      }
    },
    {
      "cell_type": "code",
      "source": [
        "hess = jax.hessian(loss_function)(theta, x, y)\n",
        "\n",
        "assert jnp.allclose(hess, gt_hess(theta, x, y))"
      ],
      "metadata": {
        "id": "tr1qox7GWhqC"
      },
      "execution_count": null,
      "outputs": []
    },
    {
      "cell_type": "markdown",
      "source": [
        "#### Way-2"
      ],
      "metadata": {
        "id": "W06H46qdXt9_"
      }
    },
    {
      "cell_type": "code",
      "source": [
        "hess = jax.jacfwd(jax.jacrev(loss_function))(theta, x, y)\n",
        "\n",
        "assert jnp.allclose(hess, gt_hess(theta, x, y))"
      ],
      "metadata": {
        "id": "SYLlnalmXDqD"
      },
      "execution_count": null,
      "outputs": []
    }
  ]
}