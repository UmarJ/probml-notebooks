{
  "nbformat": 4,
  "nbformat_minor": 0,
  "metadata": {
    "colab": {
      "name": "two_moons_normalizingFlow.ipynb",
      "provenance": [],
      "collapsed_sections": []
    },
    "kernelspec": {
      "name": "python3",
      "display_name": "Python 3"
    },
    "language_info": {
      "name": "python"
    }
  },
  "cells": [
    {
      "cell_type": "markdown",
      "source": [
        "## Two Moons Normalizing Flow Using Distrax + Haiku\n",
        "Neural Spline Flow based off of `distrax` [documentation](https://github.com/deepmind/distrax/blob/master/examples/flow.py) for a flow. For a more detailed walkthrough of the math behind normalizing flow, see this [notebook's](https://colab.research.google.com/github/nsanghi/probml-notebooks/blob/add_mnist_spline_flow_jax/notebooks/flow_spline_mnist_jax.ipynb#scrollTo=l0K_D4QX74gV) example using MNIST. Code to load 2 moons example dataset sourced from Chris Waites's jax-flows [demo](https://github.com/ChrisWaites/jax-flows/blob/master/examples/intro.ipynb)."
      ],
      "metadata": {
        "id": "sagJU2jL38hv"
      }
    },
    {
      "cell_type": "code",
      "execution_count": 1,
      "metadata": {
        "colab": {
          "base_uri": "https://localhost:8080/"
        },
        "id": "hvCQM5YgdUTm",
        "outputId": "b1ba4e26-ef2f-4f85-ed0d-f146b56cc985"
      },
      "outputs": [
        {
          "output_type": "stream",
          "name": "stdout",
          "text": [
            "Collecting dm-haiku\n",
            "  Downloading dm_haiku-0.0.6-py3-none-any.whl (309 kB)\n",
            "\u001b[?25l\r\u001b[K     |█                               | 10 kB 24.2 MB/s eta 0:00:01\r\u001b[K     |██▏                             | 20 kB 29.8 MB/s eta 0:00:01\r\u001b[K     |███▏                            | 30 kB 35.5 MB/s eta 0:00:01\r\u001b[K     |████▎                           | 40 kB 26.5 MB/s eta 0:00:01\r\u001b[K     |█████▎                          | 51 kB 20.5 MB/s eta 0:00:01\r\u001b[K     |██████▍                         | 61 kB 22.9 MB/s eta 0:00:01\r\u001b[K     |███████▍                        | 71 kB 21.0 MB/s eta 0:00:01\r\u001b[K     |████████▌                       | 81 kB 21.9 MB/s eta 0:00:01\r\u001b[K     |█████████▌                      | 92 kB 23.8 MB/s eta 0:00:01\r\u001b[K     |██████████▋                     | 102 kB 24.5 MB/s eta 0:00:01\r\u001b[K     |███████████▋                    | 112 kB 24.5 MB/s eta 0:00:01\r\u001b[K     |████████████▊                   | 122 kB 24.5 MB/s eta 0:00:01\r\u001b[K     |█████████████▊                  | 133 kB 24.5 MB/s eta 0:00:01\r\u001b[K     |██████████████▉                 | 143 kB 24.5 MB/s eta 0:00:01\r\u001b[K     |███████████████▉                | 153 kB 24.5 MB/s eta 0:00:01\r\u001b[K     |█████████████████               | 163 kB 24.5 MB/s eta 0:00:01\r\u001b[K     |██████████████████              | 174 kB 24.5 MB/s eta 0:00:01\r\u001b[K     |███████████████████             | 184 kB 24.5 MB/s eta 0:00:01\r\u001b[K     |████████████████████            | 194 kB 24.5 MB/s eta 0:00:01\r\u001b[K     |█████████████████████▏          | 204 kB 24.5 MB/s eta 0:00:01\r\u001b[K     |██████████████████████▏         | 215 kB 24.5 MB/s eta 0:00:01\r\u001b[K     |███████████████████████▎        | 225 kB 24.5 MB/s eta 0:00:01\r\u001b[K     |████████████████████████▎       | 235 kB 24.5 MB/s eta 0:00:01\r\u001b[K     |█████████████████████████▍      | 245 kB 24.5 MB/s eta 0:00:01\r\u001b[K     |██████████████████████████▌     | 256 kB 24.5 MB/s eta 0:00:01\r\u001b[K     |███████████████████████████▌    | 266 kB 24.5 MB/s eta 0:00:01\r\u001b[K     |████████████████████████████▋   | 276 kB 24.5 MB/s eta 0:00:01\r\u001b[K     |█████████████████████████████▋  | 286 kB 24.5 MB/s eta 0:00:01\r\u001b[K     |██████████████████████████████▊ | 296 kB 24.5 MB/s eta 0:00:01\r\u001b[K     |███████████████████████████████▊| 307 kB 24.5 MB/s eta 0:00:01\r\u001b[K     |████████████████████████████████| 309 kB 24.5 MB/s \n",
            "\u001b[?25hCollecting distrax\n",
            "  Downloading distrax-0.1.2-py3-none-any.whl (272 kB)\n",
            "\u001b[K     |████████████████████████████████| 272 kB 39.4 MB/s \n",
            "\u001b[?25hCollecting optax\n",
            "  Downloading optax-0.1.1-py3-none-any.whl (136 kB)\n",
            "\u001b[K     |████████████████████████████████| 136 kB 51.4 MB/s \n",
            "\u001b[?25hCollecting jmp>=0.0.2\n",
            "  Downloading jmp-0.0.2-py3-none-any.whl (16 kB)\n",
            "Requirement already satisfied: absl-py>=0.7.1 in /usr/local/lib/python3.7/dist-packages (from dm-haiku) (1.0.0)\n",
            "Requirement already satisfied: typing-extensions in /usr/local/lib/python3.7/dist-packages (from dm-haiku) (3.10.0.2)\n",
            "Requirement already satisfied: numpy>=1.18.0 in /usr/local/lib/python3.7/dist-packages (from dm-haiku) (1.21.5)\n",
            "Requirement already satisfied: tabulate>=0.8.9 in /usr/local/lib/python3.7/dist-packages (from dm-haiku) (0.8.9)\n",
            "Requirement already satisfied: six in /usr/local/lib/python3.7/dist-packages (from absl-py>=0.7.1->dm-haiku) (1.15.0)\n",
            "Requirement already satisfied: jax>=0.1.55 in /usr/local/lib/python3.7/dist-packages (from distrax) (0.3.4)\n",
            "Requirement already satisfied: jaxlib>=0.1.67 in /usr/local/lib/python3.7/dist-packages (from distrax) (0.3.2+cuda11.cudnn805)\n",
            "Requirement already satisfied: tensorflow-probability>=0.15.0 in /usr/local/lib/python3.7/dist-packages (from distrax) (0.16.0)\n",
            "Collecting chex>=0.0.7\n",
            "  Downloading chex-0.1.1-py3-none-any.whl (70 kB)\n",
            "\u001b[K     |████████████████████████████████| 70 kB 9.5 MB/s \n",
            "\u001b[?25hRequirement already satisfied: toolz>=0.9.0 in /usr/local/lib/python3.7/dist-packages (from chex>=0.0.7->distrax) (0.11.2)\n",
            "Requirement already satisfied: dm-tree>=0.1.5 in /usr/local/lib/python3.7/dist-packages (from chex>=0.0.7->distrax) (0.1.6)\n",
            "Requirement already satisfied: opt-einsum in /usr/local/lib/python3.7/dist-packages (from jax>=0.1.55->distrax) (3.3.0)\n",
            "Requirement already satisfied: scipy>=1.2.1 in /usr/local/lib/python3.7/dist-packages (from jax>=0.1.55->distrax) (1.4.1)\n",
            "Requirement already satisfied: flatbuffers<3.0,>=1.12 in /usr/local/lib/python3.7/dist-packages (from jaxlib>=0.1.67->distrax) (2.0)\n",
            "Requirement already satisfied: cloudpickle>=1.3 in /usr/local/lib/python3.7/dist-packages (from tensorflow-probability>=0.15.0->distrax) (1.3.0)\n",
            "Requirement already satisfied: gast>=0.3.2 in /usr/local/lib/python3.7/dist-packages (from tensorflow-probability>=0.15.0->distrax) (0.5.3)\n",
            "Requirement already satisfied: decorator in /usr/local/lib/python3.7/dist-packages (from tensorflow-probability>=0.15.0->distrax) (4.4.2)\n",
            "Installing collected packages: jmp, chex, optax, dm-haiku, distrax\n",
            "Successfully installed chex-0.1.1 distrax-0.1.2 dm-haiku-0.0.6 jmp-0.0.2 optax-0.1.1\n"
          ]
        }
      ],
      "source": [
        "!pip install -U dm-haiku distrax optax"
      ]
    },
    {
      "cell_type": "code",
      "source": [
        "import matplotlib.pyplot as plt\n",
        "from IPython.display import clear_output\n",
        "from sklearn import datasets, preprocessing\n",
        "import distrax\n",
        "import jax\n",
        "import jax.numpy as jnp\n",
        "import numpy as np\n",
        "import haiku as hk\n",
        "import optax\n",
        "import tensorflow as tf\n",
        "import tensorflow_datasets as tfds\n",
        "\n",
        "from tensorflow_probability.substrates import jax as tfp\n",
        "tfd = tfp.distributions\n",
        "\n",
        "# key = jax.random.PRNGKey(1234)"
      ],
      "metadata": {
        "id": "dlwh9VTddelC"
      },
      "execution_count": 2,
      "outputs": []
    },
    {
      "cell_type": "markdown",
      "source": [
        "# Plotting 2 moons dataset\n",
        "Code taken directly from Chris Waites's jax-flows [demo](https://github.com/ChrisWaites/jax-flows/blob/master/examples/intro.ipynb). This is the distribution we want to create a bijection to from a simple base distribution, such as a gaussian distribution."
      ],
      "metadata": {
        "id": "otKOHucyeVKn"
      }
    },
    {
      "cell_type": "code",
      "source": [
        "n_samples = 10000\n",
        "plot_range = [(-2, 2), (-2, 2)]\n",
        "n_bins = 100\n",
        "\n",
        "scaler = preprocessing.StandardScaler()\n",
        "X, _ = datasets.make_moons(n_samples=n_samples, noise=.05)\n",
        "X = scaler.fit_transform(X)\n",
        "plt.hist2d(X[:, 0], X[:, 1], bins=n_bins, range=plot_range)[-1]"
      ],
      "metadata": {
        "colab": {
          "base_uri": "https://localhost:8080/",
          "height": 287
        },
        "id": "5d_oOMKQde9e",
        "outputId": "2f4838e4-9b91-4129-c786-9db2cfb64119"
      },
      "execution_count": 3,
      "outputs": [
        {
          "output_type": "execute_result",
          "data": {
            "text/plain": [
              "<matplotlib.collections.QuadMesh at 0x7f78f2e62390>"
            ]
          },
          "metadata": {},
          "execution_count": 3
        },
        {
          "output_type": "display_data",
          "data": {
            "text/plain": [
              "<Figure size 432x288 with 1 Axes>"
            ],
            "image/png": "[encoded data removed]"
          },
          "metadata": {
            "needs_background": "light"
          }
        }
      ]
    },
    {
      "cell_type": "markdown",
      "source": [
        "## Creating the normalizing flow in distrax+haiku\n",
        "Instead of a uniform distribution, we use a normal distribution as the base distribution. This makes more sense for a standardized two moons dataset that is scaled according to a normal distribution using `sklearn`'s `StandardScaler()`. Using a uniform base distribution will result in `inf` and `nan` loss."
      ],
      "metadata": {
        "id": "40VCypTshm_z"
      }
    },
    {
      "cell_type": "code",
      "source": [
        "from typing import Any, Iterator, Mapping, Optional, Sequence, Tuple\n",
        "\n",
        "# Hyperparams - change these to experiment\n",
        "flow_num_layers = 8 \n",
        "mlp_num_layers = 4 \n",
        "hidden_size = 1000 \n",
        "num_bins = 8 \n",
        "batch_size = 512\n",
        "learning_rate = 1e-4\n",
        "eval_frequency = 100\n",
        "\n",
        "Array = jnp.ndarray\n",
        "PRNGKey = Array\n",
        "Batch = Mapping[str, np.ndarray]\n",
        "OptState = Any\n",
        "\n",
        "\n",
        "# Functions to create a distrax normalizing flow\n",
        "def make_conditioner(event_shape: Sequence[int],\n",
        "                     hidden_sizes: Sequence[int],\n",
        "                     num_bijector_params: int) -> hk.Sequential:\n",
        "  \"\"\"Creates an MLP conditioner for each layer of the flow.\"\"\"\n",
        "  return hk.Sequential([\n",
        "      hk.Flatten(preserve_dims=-len(event_shape)),\n",
        "      hk.nets.MLP(hidden_sizes, activate_final=True),\n",
        "      # We initialize this linear layer to zero so that the flow is initialized\n",
        "      # to the identity function.\n",
        "      hk.Linear(\n",
        "          np.prod(event_shape) * num_bijector_params,\n",
        "          w_init=jnp.zeros,\n",
        "          b_init=jnp.zeros),\n",
        "      hk.Reshape(tuple(event_shape) + (num_bijector_params,), preserve_dims=-1),\n",
        "  ])\n",
        "\n",
        "\n",
        "def make_flow_model(event_shape: Sequence[int],\n",
        "                    num_layers: int,\n",
        "                    hidden_sizes: Sequence[int],\n",
        "                    num_bins: int) -> distrax.Transformed:\n",
        "  \"\"\"Creates the flow model.\"\"\"\n",
        "  # Alternating binary mask.\n",
        "  mask = jnp.arange(0, np.prod(event_shape)) % 2\n",
        "  mask = jnp.reshape(mask, event_shape)\n",
        "  mask = mask.astype(bool)\n",
        "\n",
        "  def bijector_fn(params: Array):\n",
        "    return distrax.RationalQuadraticSpline(\n",
        "        params, range_min=-2., range_max=2.)\n",
        "\n",
        "  # Number of parameters for the rational-quadratic spline:\n",
        "  # - `num_bins` bin widths\n",
        "  # - `num_bins` bin heights\n",
        "  # - `num_bins + 1` knot slopes\n",
        "  # for a total of `3 * num_bins + 1` parameters.\n",
        "  num_bijector_params = 3 * num_bins + 1\n",
        "\n",
        "  layers = []\n",
        "  for _ in range(num_layers):\n",
        "    layer = distrax.MaskedCoupling(\n",
        "        mask=mask,\n",
        "        bijector=bijector_fn,\n",
        "        conditioner=make_conditioner(event_shape, hidden_sizes,\n",
        "                                     num_bijector_params))\n",
        "    layers.append(layer)\n",
        "    # Flip the mask after each layer.\n",
        "    mask = jnp.logical_not(mask)\n",
        "\n",
        "  # We invert the flow so that the `forward` method is called with `log_prob`.\n",
        "  flow = distrax.Inverse(distrax.Chain(layers))\n",
        "\n",
        "  # Making base distribution normal distribution\n",
        "  mu = jnp.zeros(event_shape) \n",
        "  sigma = jnp.ones(event_shape) \n",
        "  base_distribution = distrax.Independent(\n",
        "      distrax.MultivariateNormalDiag(mu, sigma))\n",
        "  return distrax.Transformed(base_distribution, flow)\n",
        "\n",
        "\n",
        "def load_dataset(split: tfds.Split, batch_size: int) -> Iterator[Batch]:\n",
        "  # ds = tfds.load(\"mnist\", split=split, shuffle_files=True)\n",
        "  ds = split\n",
        "  ds = ds.shuffle(buffer_size=10 * batch_size)\n",
        "  ds = ds.batch(batch_size)\n",
        "  ds = ds.prefetch(buffer_size=1000)\n",
        "  ds = ds.repeat()\n",
        "  return iter(tfds.as_numpy(ds))\n",
        "\n",
        "\n",
        "def prepare_data(batch: Batch, prng_key: Optional[PRNGKey] = None) -> Array:\n",
        "  data = batch.astype(np.float32)\n",
        "  return data\n",
        "\n",
        "\n",
        "@hk.without_apply_rng\n",
        "@hk.transform\n",
        "def model_sample(key: PRNGKey, num_samples: int) -> Array:\n",
        "  model = make_flow_model(\n",
        "      event_shape=TWO_MOONS_SHAPE,\n",
        "      num_layers=flow_num_layers,\n",
        "      hidden_sizes=[hidden_size] * mlp_num_layers,\n",
        "      num_bins=num_bins)\n",
        "  return model.sample(seed=key, sample_shape=[num_samples])\n",
        "\n",
        "\n",
        "@hk.without_apply_rng\n",
        "@hk.transform\n",
        "def log_prob(data: Array) -> Array:\n",
        "  model = make_flow_model(\n",
        "      event_shape=TWO_MOONS_SHAPE,\n",
        "      num_layers=flow_num_layers,\n",
        "      hidden_sizes=[hidden_size] * mlp_num_layers,\n",
        "      num_bins=num_bins)\n",
        "  return model.log_prob(data)\n",
        "\n",
        "\n",
        "def loss_fn(params: hk.Params, prng_key: PRNGKey, batch: Batch) -> Array:\n",
        "  data = prepare_data(batch, prng_key)\n",
        "  # Loss is average negative log likelihood.\n",
        "  loss = -jnp.mean(log_prob.apply(params, data))\n",
        "  return loss\n",
        "\n",
        "\n",
        "@jax.jit\n",
        "def eval_fn(params: hk.Params, batch: Batch) -> Array:\n",
        "  data = prepare_data(batch)  # We don't dequantize during evaluation.\n",
        "  loss = -jnp.mean(log_prob.apply(params, data))\n",
        "  return loss\n"
      ],
      "metadata": {
        "id": "sstrW_OOdwnH"
      },
      "execution_count": 5,
      "outputs": []
    },
    {
      "cell_type": "markdown",
      "source": [
        "## Setting up the optimizer"
      ],
      "metadata": {
        "id": "sOZb5SCe6RfF"
      }
    },
    {
      "cell_type": "code",
      "source": [
        "optimizer = optax.adam(learning_rate)\n",
        "\n",
        "@jax.jit\n",
        "def update(params: hk.Params,\n",
        "            prng_key: PRNGKey,\n",
        "            opt_state: OptState,\n",
        "            batch: Batch) -> Tuple[hk.Params, OptState]:\n",
        "  \"\"\"Single SGD update step.\"\"\"\n",
        "  grads = jax.grad(loss_fn)(params, prng_key, batch)\n",
        "  updates, new_opt_state = optimizer.update(grads, opt_state)\n",
        "  new_params = optax.apply_updates(params, updates)\n",
        "  return new_params, new_opt_state"
      ],
      "metadata": {
        "id": "zWjHDrLadwo6"
      },
      "execution_count": 6,
      "outputs": []
    },
    {
      "cell_type": "markdown",
      "source": [
        "## Training the flow\n"
      ],
      "metadata": {
        "id": "QPjDjwpi6L3H"
      }
    },
    {
      "cell_type": "code",
      "source": [
        "# Event shape\n",
        "TWO_MOONS_SHAPE = (2,)\n",
        "\n",
        "# Create tf dataset from sklearn dataset\n",
        "dataset = tf.data.Dataset.from_tensor_slices(X)\n",
        "\n",
        "# Splitting into train/validate ds\n",
        "train = dataset.skip(2000)\n",
        "val = dataset.take(2000)\n",
        "\n",
        "# load_dataset(split: tfds.Split, batch_size: int)\n",
        "train_ds = load_dataset(train, 512)\n",
        "valid_ds = load_dataset(val, 512)\n",
        "\n",
        "# Initializing PRNG and Neural Net params\n",
        "prng_seq = hk.PRNGSequence(1)\n",
        "params = log_prob.init(next(prng_seq), np.zeros((1, *TWO_MOONS_SHAPE)))\n",
        "opt_state = optimizer.init(params)\n",
        "\n",
        "training_steps = 1000\n",
        "\n",
        "for step in range(training_steps):\n",
        "  params, opt_state = update(params, next(prng_seq), opt_state,\n",
        "                              next(train_ds))\n",
        "\n",
        "  if step % eval_frequency == 0:\n",
        "    val_loss = eval_fn(params, next(valid_ds))\n",
        "    print(f\"STEP: {step:5d}; Validation loss: {val_loss:.3f}\")\n"
      ],
      "metadata": {
        "colab": {
          "base_uri": "https://localhost:8080/"
        },
        "id": "42GR531jdfCZ",
        "outputId": "67758c45-1b67-46eb-e314-2c4fa8c8fb23"
      },
      "execution_count": 7,
      "outputs": [
        {
          "output_type": "stream",
          "name": "stdout",
          "text": [
            "STEP:     0; Validation loss: 2.816\n",
            "STEP:   100; Validation loss: 1.526\n",
            "STEP:   200; Validation loss: 1.509\n",
            "STEP:   300; Validation loss: 1.349\n",
            "STEP:   400; Validation loss: 1.341\n",
            "STEP:   500; Validation loss: 1.208\n",
            "STEP:   600; Validation loss: 1.322\n",
            "STEP:   700; Validation loss: 1.282\n",
            "STEP:   800; Validation loss: 1.299\n",
            "STEP:   900; Validation loss: 1.307\n"
          ]
        }
      ]
    },
    {
      "cell_type": "code",
      "source": [
        "n_samples = 10000\n",
        "plot_range = [(-2, 2), (-2, 2)]\n",
        "n_bins = 100\n",
        "\n",
        "X_transf = model_sample.apply(params, next(prng_seq), num_samples=n_samples)\n",
        "plt.hist2d(X_transf[:, 0], X_transf[:, 1], bins=n_bins, range=plot_range)[-1]"
      ],
      "metadata": {
        "colab": {
          "base_uri": "https://localhost:8080/",
          "height": 287
        },
        "id": "n-uyUZPyY94K",
        "outputId": "b90fe0d0-4b6f-4b09-9d64-249ebeb09d2e"
      },
      "execution_count": 8,
      "outputs": [
        {
          "output_type": "execute_result",
          "data": {
            "text/plain": [
              "<matplotlib.collections.QuadMesh at 0x7f06bce1c610>"
            ]
          },
          "metadata": {},
          "execution_count": 8
        },
        {
          "output_type": "display_data",
          "data": {
            "text/plain": [
              "<Figure size 432x288 with 1 Axes>"
            ],
            "image/png": "[encoded data removed]"
          },
          "metadata": {
            "needs_background": "light"
          }
        }
      ]
    },
    {
      "cell_type": "code",
      "source": [
        ""
      ],
      "metadata": {
        "id": "WeTk4ZZOdfJs"
      },
      "execution_count": null,
      "outputs": []
    }
  ]
}